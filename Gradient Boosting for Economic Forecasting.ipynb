{
 "cells": [
  {
   "cell_type": "code",
   "execution_count": 1,
   "id": "4d009ccc-03d8-4889-9fa6-115bc15169bb",
   "metadata": {},
   "outputs": [],
   "source": [
    "import pandas as pd\n",
    "from sklearn.model_selection import train_test_split\n",
    "from sklearn.ensemble import GradientBoostingRegressor\n",
    "from sklearn.metrics import mean_squared_error, r2_score"
   ]
  },
  {
   "cell_type": "code",
   "execution_count": null,
   "id": "508e5750-c14b-4e98-bc1a-95c021ef7175",
   "metadata": {},
   "outputs": [],
   "source": [
    "file_path = ''\n",
    "df = pd.read_excel(file_path)\n",
    "\n",
    "X = df[['x1', 'x2', 'x3', 'x4', 'x5', 'x6', 'x7', 'x8', 'x9', 'x10']].values\n",
    "Y = df['y'].values\n",
    "\n",
    "X_train, X_test, Y_train, Y_test = train_test_split(X, Y, test_size=0.2, random_state=44444)"
   ]
  },
  {
   "cell_type": "code",
   "execution_count": null,
   "id": "51d97820-7322-4de3-b571-f7f847c19a97",
   "metadata": {},
   "outputs": [],
   "source": [
    "gb_regressor = GradientBoostingRegressor(\n",
    "    n_estimators=75,          \n",
    "    learning_rate=0.1,       \n",
    "    max_depth=2,              \n",
    "    random_state=42   \n",
    ")\n",
    "\n",
    "gb_regressor.fit(X_train, Y_train)"
   ]
  },
  {
   "cell_type": "code",
   "execution_count": null,
   "id": "2bf33a20-c2f2-4d6d-890b-8e80078e4a27",
   "metadata": {},
   "outputs": [],
   "source": [
    "Y_pred = gb_regressor.predict(X_test)\n",
    "\n",
    "mse = mean_squared_error(Y_test, Y_pred)\n",
    "r2 = r2_score(Y_test, Y_pred)\n",
    "\n",
    "print(f\"Среднеквадратичная ошибка (MSE): {mse}\")\n",
    "print(f\"Коэффициент детерминации (R^2): {r2}\")\n",
    "\n",
    "for real, pred in zip(Y_test[:5], Y_pred[:5]):\n",
    "    print(f\"Реальное значение: {real}, Предсказанное значение: {pred}\")"
   ]
  },
  {
   "cell_type": "code",
   "execution_count": null,
   "id": "7b150f70-f194-4a02-bf0e-1f222708c099",
   "metadata": {},
   "outputs": [],
   "source": [
    "from sklearn.ensemble import GradientBoostingRegressor\n",
    "import joblib\n",
    "\n",
    "model = GradientBoostingRegressor(n_estimators=100, learning_rate=0.1, max_depth=3, random_state=42)\n",
    "model.fit(X_train, Y_train)\n",
    "\n",
    "joblib.dump(model, 'gradient_boosting_model.pkl')"
   ]
  },
  {
   "cell_type": "code",
   "execution_count": null,
   "id": "46502f96-b13b-4ae6-b71a-bd2d3e8b7eb7",
   "metadata": {},
   "outputs": [],
   "source": [
    "model = joblib.load('gradient_boosting_model.pkl')\n",
    "\n",
    "new_data = {\n",
    "    'x1': [228.7862302 * 1.05],  \n",
    "    'x2': [70.33 * 1.05],         \n",
    "    'x3': [10.61780822 * 1.05], \n",
    "    'x4': [744.8895 * 1.05],   \n",
    "    'x5': [46.2074869 * 1.05],\n",
    "    'x6': [43.22 * 1.05],\n",
    "    'x7': [9.04914 * 1.05],\n",
    "    'x8': [7.63687 * 1.05],\n",
    "    'x9': [20.65928 * 1.05],\n",
    "    'x10': [5.941211 * 1.05]\n",
    "}\n",
    "\n",
    "import pandas as pd\n",
    "new_data_df = pd.DataFrame(new_data)\n",
    "\n",
    "predictions = model.predict(new_data_df)\n",
    "\n",
    "print(\"Предсказания для новых данных:\")\n",
    "print(predictions)"
   ]
  }
 ],
 "metadata": {
  "kernelspec": {
   "display_name": "Python 3 (ipykernel)",
   "language": "python",
   "name": "python3"
  },
  "language_info": {
   "codemirror_mode": {
    "name": "ipython",
    "version": 3
   },
   "file_extension": ".py",
   "mimetype": "text/x-python",
   "name": "python",
   "nbconvert_exporter": "python",
   "pygments_lexer": "ipython3",
   "version": "3.12.4"
  }
 },
 "nbformat": 4,
 "nbformat_minor": 5
}
